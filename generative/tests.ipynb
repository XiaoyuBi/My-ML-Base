{
 "cells": [
  {
   "cell_type": "markdown",
   "metadata": {},
   "source": [
    "## Autoencoder"
   ]
  },
  {
   "cell_type": "code",
   "execution_count": 1,
   "metadata": {},
   "outputs": [
    {
     "name": "stderr",
     "output_type": "stream",
     "text": [
      "Epoch [1 / 10]: 100%|██████████| 59/59 [00:04<00:00, 14.03it/s, train_loss=0.2887]\n",
      "Epoch [2 / 10]: 100%|██████████| 59/59 [00:02<00:00, 20.89it/s, train_loss=0.2226]\n",
      "Epoch [3 / 10]: 100%|██████████| 59/59 [00:02<00:00, 21.45it/s, train_loss=0.1926]\n",
      "Epoch [4 / 10]: 100%|██████████| 59/59 [00:02<00:00, 20.89it/s, train_loss=0.1756]\n",
      "Epoch [5 / 10]: 100%|██████████| 59/59 [00:02<00:00, 20.01it/s, train_loss=0.1588]\n",
      "Epoch [6 / 10]: 100%|██████████| 59/59 [00:02<00:00, 20.67it/s, train_loss=0.1490]\n",
      "Epoch [7 / 10]: 100%|██████████| 59/59 [00:02<00:00, 20.85it/s, train_loss=0.1419]\n",
      "Epoch [8 / 10]: 100%|██████████| 59/59 [00:02<00:00, 20.52it/s, train_loss=0.1350]\n",
      "Epoch [9 / 10]: 100%|██████████| 59/59 [00:02<00:00, 20.06it/s, train_loss=0.1299]\n"
     ]
    }
   ],
   "source": [
    "import torch\n",
    "from tqdm import tqdm\n",
    "from torch.utils.data import Dataset, DataLoader\n",
    "from datasets import MyMNIST, NoisyMNIST\n",
    "from models.autoencoder import Autoencoder\n",
    "\n",
    "DEVICE = \"mps\" if torch.backends.mps.is_available() else \"cpu\"\n",
    "BATCH_SIZE = 1024\n",
    "LR = 3e-1\n",
    "MOMENTUM = 0.1\n",
    "NUM_EPOCH = 10\n",
    "\n",
    "mnist_train = NoisyMNIST(root = \"./data/\", train = True, download = True)\n",
    "mnist_test = NoisyMNIST(root = \"./data/\", train = False, download = True)\n",
    "\n",
    "mnist_train = DataLoader(mnist_train, batch_size = BATCH_SIZE, shuffle = True, num_workers = 8)\n",
    "mnist_test = DataLoader(mnist_test, batch_size = BATCH_SIZE, shuffle = False, num_workers = 8)\n",
    "\n",
    "model = Autoencoder()\n",
    "model.to(DEVICE)\n",
    "optimizer = torch.optim.SGD(model.parameters(), lr = LR, momentum = MOMENTUM)\n",
    "\n",
    "losses = []\n",
    "for epoch in range(1, NUM_EPOCH + 1):\n",
    "    model.train()\n",
    "    training_loss = 0\n",
    "\n",
    "    n_batches = len(mnist_train)\n",
    "    progbar = tqdm(range(n_batches), total=n_batches)\n",
    "    progbar.set_description(f\"Epoch [{epoch} / {NUM_EPOCH}]\")\n",
    "    for data, target, _ in mnist_train:\n",
    "        optimizer.zero_grad()\n",
    "        data, target = data.to(DEVICE), target.to(DEVICE)\n",
    "        \n",
    "        outputs = model(data)\n",
    "        loss = model.loss_function(outputs, target, loss_type = \"binary\")['loss']\n",
    "        loss.backward()\n",
    "        optimizer.step()\n",
    "\n",
    "        training_loss += loss.item()\n",
    "        progbar.update()\n",
    "        progbar.set_postfix(train_loss=f\"{loss.item():.4f}\")\n",
    "    \n",
    "    losses.append(round(training_loss, 4))"
   ]
  },
  {
   "cell_type": "code",
   "execution_count": 11,
   "metadata": {},
   "outputs": [
    {
     "data": {
      "text/plain": [
       "<matplotlib.image.AxesImage at 0x2a356f290>"
      ]
     },
     "execution_count": 11,
     "metadata": {},
     "output_type": "execute_result"
    },
    {
     "data": {
      "image/png": "[encoded data removed]",
      "text/plain": [
       "<Figure size 640x480 with 3 Axes>"
      ]
     },
     "metadata": {},
     "output_type": "display_data"
    }
   ],
   "source": [
    "import matplotlib.pyplot as plt\n",
    "\n",
    "x_hat = mnist_test.dataset[4][0]\n",
    "x = mnist_test.dataset[4][1]\n",
    "y = model(x.unsqueeze(0).to(DEVICE)).squeeze(0).cpu().detach()\n",
    "\n",
    "f, axarr = plt.subplots(1, 3)\n",
    "axarr[0].imshow(x)\n",
    "axarr[1].imshow(x_hat)\n",
    "axarr[2].imshow(y)"
   ]
  },
  {
   "cell_type": "code",
   "execution_count": null,
   "metadata": {},
   "outputs": [],
   "source": []
  }
 ],
 "metadata": {
  "kernelspec": {
   "display_name": ".venv",
   "language": "python",
   "name": "python3"
  },
  "language_info": {
   "codemirror_mode": {
    "name": "ipython",
    "version": 3
   },
   "file_extension": ".py",
   "mimetype": "text/x-python",
   "name": "python",
   "nbconvert_exporter": "python",
   "pygments_lexer": "ipython3",
   "version": "3.12.2"
  }
 },
 "nbformat": 4,
 "nbformat_minor": 2
}
